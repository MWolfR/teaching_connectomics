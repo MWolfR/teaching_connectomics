{
 "cells": [
  {
   "cell_type": "markdown",
   "metadata": {},
   "source": [
    "# Which one's the real data?\n",
    "\n",
    "In the previous notebook, we used connectivity analyses to figure out which connectivity data was from an experiment, and which data was algorithmically generated. Here, we do this again, but instead of using small, patch-sampled connectomes, we use a densely reconstructed EM connectome. Specifically, the data from the MICrONS project.\n",
    "\n",
    "## Your input required\n",
    "At this point, I hope you will be able to do this without additional guidance.\n",
    "\n",
    "\n",
    "\n",
    "# Loading the data\n",
    "We begin by loading in the data.\n",
    "\n",
    "Obtain the data from [this link](https://openbraininstitute-my.sharepoint.com/:u:/g/personal/michael_reimann_openbraininstitute_org/ERYOyG4Y9slJrJYIG0hwWO8B-P80HPNC9CDa2uSRGcEhaQ?e=heocfE)"
   ]
  },
  {
   "cell_type": "code",
   "execution_count": null,
   "metadata": {},
   "outputs": [],
   "source": [
    "!pip install numpy\n",
    "!pip install pandas\n",
    "!pip install Connectome-Utilities\n",
    "!pip install connectome-analysis\n",
    "!pip install scipy"
   ]
  },
  {
   "cell_type": "code",
   "execution_count": null,
   "metadata": {},
   "outputs": [],
   "source": [
    "import numpy\n",
    "import pandas\n",
    "import conntility\n",
    "import connalysis\n",
    "from scipy import sparse\n",
    "\n",
    "use_gdrive = True\n",
    "\n",
    "if use_gdrive:\n",
    "    from google.colab import drive\n",
    "    drive.mount('/content/drive')\n",
    "\n",
    "    # Assumes a shortcut to the shared drive has been placed in your Drive.\n",
    "    fn_data = \"/content/drive/MyDrive/NSC6085_Student_Share/April08/data/mystery_con_mats_f.h5\"\n",
    "else:\n",
    "    # Alternatively, if the GDrive method does not work, you can download the file separately and place it into the local file system.\n",
    "    # Obtain from the link listed above.\n",
    "    fn_data = \"./mystery_con_mats_f.h5\"\n",
    "\n",
    "data = conntility.ConnectivityGroup.from_h5(fn_data)\n",
    "\n",
    "# Four matrices, which one's real?\n",
    "display(data.index)\n",
    "# 15k neurons\n",
    "display(len(data[0]))"
   ]
  }
 ],
 "metadata": {
  "kernelspec": {
   "display_name": "clean_analyses",
   "language": "python",
   "name": "python3"
  },
  "language_info": {
   "codemirror_mode": {
    "name": "ipython",
    "version": 3
   },
   "file_extension": ".py",
   "mimetype": "text/x-python",
   "name": "python",
   "nbconvert_exporter": "python",
   "pygments_lexer": "ipython3",
   "version": "3.12.8"
  }
 },
 "nbformat": 4,
 "nbformat_minor": 2
}
